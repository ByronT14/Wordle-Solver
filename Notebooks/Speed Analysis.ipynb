{
 "cells": [
  {
   "cell_type": "markdown",
   "id": "1a7a808c",
   "metadata": {
    "toc": true
   },
   "source": [
    "<h1>Table of Contents<span class=\"tocSkip\"></span></h1>\n",
    "<div class=\"toc\"><ul class=\"toc-item\"><li><span><a href=\"#Imports\" data-toc-modified-id=\"Imports-1\"><span class=\"toc-item-num\">1&nbsp;&nbsp;</span>Imports</a></span></li><li><span><a href=\"#Feedback\" data-toc-modified-id=\"Feedback-2\"><span class=\"toc-item-num\">2&nbsp;&nbsp;</span>Feedback</a></span><ul class=\"toc-item\"><li><span><a href=\"#returning-the-clue-as-a-string-vs-a-list\" data-toc-modified-id=\"returning-the-clue-as-a-string-vs-a-list-2.1\"><span class=\"toc-item-num\">2.1&nbsp;&nbsp;</span>returning the clue as a string vs a list</a></span></li><li><span><a href=\"#Evaluating-the-time-to-correct-the-wordle-feedback\" data-toc-modified-id=\"Evaluating-the-time-to-correct-the-wordle-feedback-2.2\"><span class=\"toc-item-num\">2.2&nbsp;&nbsp;</span>Evaluating the time to correct the wordle feedback</a></span></li><li><span><a href=\"#Speeding-up-the-feedback\" data-toc-modified-id=\"Speeding-up-the-feedback-2.3\"><span class=\"toc-item-num\">2.3&nbsp;&nbsp;</span>Speeding up the feedback</a></span></li></ul></li><li><span><a href=\"#Evaluating-the-next-guess-analysis\" data-toc-modified-id=\"Evaluating-the-next-guess-analysis-3\"><span class=\"toc-item-num\">3&nbsp;&nbsp;</span>Evaluating the next guess analysis</a></span><ul class=\"toc-item\"><li><span><a href=\"#Time-to-get-feedback\" data-toc-modified-id=\"Time-to-get-feedback-3.1\"><span class=\"toc-item-num\">3.1&nbsp;&nbsp;</span>Time to get feedback</a></span></li><li><span><a href=\"#Time-to-create-the-whole-analysis-dataframe\" data-toc-modified-id=\"Time-to-create-the-whole-analysis-dataframe-3.2\"><span class=\"toc-item-num\">3.2&nbsp;&nbsp;</span>Time to create the whole analysis dataframe</a></span></li><li><span><a href=\"#Finding-out-where-the-time-is-being-taken\" data-toc-modified-id=\"Finding-out-where-the-time-is-being-taken-3.3\"><span class=\"toc-item-num\">3.3&nbsp;&nbsp;</span>Finding out where the time is being taken</a></span></li></ul></li><li><span><a href=\"#Creating-Dataframes\" data-toc-modified-id=\"Creating-Dataframes-4\"><span class=\"toc-item-num\">4&nbsp;&nbsp;</span>Creating Dataframes</a></span><ul class=\"toc-item\"><li><span><a href=\"#Timing-the-difference\" data-toc-modified-id=\"Timing-the-difference-4.1\"><span class=\"toc-item-num\">4.1&nbsp;&nbsp;</span>Timing the difference</a></span></li><li><span><a href=\"#List-of-dfs-vs-concatenating-dataframes\" data-toc-modified-id=\"List-of-dfs-vs-concatenating-dataframes-4.2\"><span class=\"toc-item-num\">4.2&nbsp;&nbsp;</span>List of dfs vs concatenating dataframes</a></span></li><li><span><a href=\"#List-of-Lists-to-DataFrame\" data-toc-modified-id=\"List-of-Lists-to-DataFrame-4.3\"><span class=\"toc-item-num\">4.3&nbsp;&nbsp;</span>List of Lists to DataFrame</a></span></li></ul></li><li><span><a href=\"#Comparing-final-outputs\" data-toc-modified-id=\"Comparing-final-outputs-5\"><span class=\"toc-item-num\">5&nbsp;&nbsp;</span>Comparing final outputs</a></span><ul class=\"toc-item\"><li><span><a href=\"#list-of-lists-to-df\" data-toc-modified-id=\"list-of-lists-to-df-5.1\"><span class=\"toc-item-num\">5.1&nbsp;&nbsp;</span>list of lists to df</a></span></li></ul></li></ul></div>"
   ]
  },
  {
   "cell_type": "markdown",
   "id": "c6c17e99",
   "metadata": {},
   "source": [
    "# Imports"
   ]
  },
  {
   "cell_type": "code",
   "execution_count": 5,
   "id": "73a7750b",
   "metadata": {},
   "outputs": [],
   "source": [
    "import os\n",
    "import sys\n",
    "nb_dir = os.path.split(os.getcwd())[0]\n",
    "if nb_dir not in sys.path:\n",
    "    sys.path.append(nb_dir)"
   ]
  },
  {
   "cell_type": "code",
   "execution_count": 15,
   "id": "e2028960",
   "metadata": {},
   "outputs": [],
   "source": [
    "import pandas as pd\n",
    "import time"
   ]
  },
  {
   "cell_type": "code",
   "execution_count": 8,
   "id": "2701690e",
   "metadata": {},
   "outputs": [],
   "source": [
    "from wordle_solver import wordle_functions as wf\n",
    "from wordle_solver import file_imports\n",
    "from definitions import ROOT_DIR"
   ]
  },
  {
   "cell_type": "code",
   "execution_count": 9,
   "id": "5d89f6ca",
   "metadata": {},
   "outputs": [],
   "source": [
    "file_path = os.path.join(ROOT_DIR, \"word_lists\", \"five_letter_words_no_caps.json\")\n",
    "csv_path = os.path.join(ROOT_DIR, \"word_lists\", \"starter_words.csv\")\n",
    "guesses_path = os.path.join(ROOT_DIR, \"word_lists\", \"wordle_candidates_nyt.json\")\n",
    "solutions_path = os.path.join(ROOT_DIR, \"word_lists\", \"wordle_solutions_nyt.json\")"
   ]
  },
  {
   "cell_type": "code",
   "execution_count": 13,
   "id": "41889032",
   "metadata": {},
   "outputs": [
    {
     "data": {
      "text/plain": [
       "['cigar',\n",
       " 'rebut',\n",
       " 'sissy',\n",
       " 'humph',\n",
       " 'awake',\n",
       " 'blush',\n",
       " 'focal',\n",
       " 'evade',\n",
       " 'naval',\n",
       " 'serve']"
      ]
     },
     "execution_count": 13,
     "metadata": {},
     "output_type": "execute_result"
    }
   ],
   "source": [
    "five_letter_words = file_imports.import_json_to_list(file_path)\n",
    "allowed_guesses = file_imports.import_json_to_list(guesses_path)[\"words\"]\n",
    "potential_solutions = file_imports.import_json_to_list(solutions_path)[\"words\"]\n",
    "total_guesses = allowed_guesses + potential_solutions\n",
    "\n",
    "potential_solutions[:10]"
   ]
  },
  {
   "cell_type": "code",
   "execution_count": null,
   "id": "c1cfe3aa",
   "metadata": {},
   "outputs": [],
   "source": [
    "def test_word_guesser(all_words, potential_words):\n",
    "    first_guess_df = pd.DataFrame()\n",
    "    for i in all_words: # [\"raise\",\"crane\"]: #\n",
    "        guess_results = wf.compute_wordle_colours_for_one_word(i, potential_words)\n",
    "        sum_of_groups = wf.sum_groups_of_hints(guess_results)\n",
    "        expected_words_left = wf.average_solutions_left_after_guess(sum_of_groups)\n",
    "        potential_solution = wf.is_word_in_list(i, potential_words)\n",
    "        guess_df = wf.create_guess_df(i, expected_words_left, sum_of_groups, potential_solution)\n",
    "        first_guess_df = pd.concat([first_guess_df, guess_df])\n",
    "    first_guess_df = first_guess_df.sort_values(by=[\"NumberOfGroups\",\"PotentialSolution\"], ascending=[False, False])\n",
    "    return first_guess_df"
   ]
  },
  {
   "cell_type": "code",
   "execution_count": null,
   "id": "8eba21c7",
   "metadata": {},
   "outputs": [],
   "source": []
  },
  {
   "cell_type": "markdown",
   "id": "9a15f410",
   "metadata": {},
   "source": [
    "# Feedback\n",
    "Evaluating how long it takes to provide \"feedback\" or the colour hints returned using the return_corrected_wordle_clue function"
   ]
  },
  {
   "cell_type": "code",
   "execution_count": 83,
   "id": "bfe3a892",
   "metadata": {},
   "outputs": [
    {
     "name": "stdout",
     "output_type": "stream",
     "text": [
      "feedback for 1 guesses for 2309 solutions takes 0.016982078552246094\n",
      "feedbacck for 10000 guess would take 169.82078552246094 seconds\n"
     ]
    }
   ],
   "source": [
    "test_guesses = total_guesses # [\"metes\"] #\n",
    "test_solutions = potential_solutions\n",
    "\n",
    "def test_feedback(guess, word_to_guess,  potential_words):\n",
    "    start_time = time.time()\n",
    "    feedback = wf.return_corrected_wordle_clue(guess, word_to_guess)\n",
    "    solutions = [i for i in potential_words if\n",
    "                      wf.return_corrected_wordle_clue(guess, i) == feedback]\n",
    "    duration = time.time() - start_time\n",
    "    print(f'feedback for {len([guess])} guesses for {len(potential_words)} solutions takes {duration}')\n",
    "    print(f'feedbacck for 10000 guess would take {duration * 10000} seconds')\n",
    "    \n",
    "\n",
    "test_feedback(\"trace\",\"story\", test_solutions)"
   ]
  },
  {
   "cell_type": "markdown",
   "id": "34410cdb",
   "metadata": {},
   "source": [
    "## returning the clue as a string vs a list"
   ]
  },
  {
   "cell_type": "code",
   "execution_count": 84,
   "id": "9e2654ae",
   "metadata": {},
   "outputs": [
    {
     "name": "stdout",
     "output_type": "stream",
     "text": [
      "1000 guesses for 2309 solutions takes 4.561352491378784\n",
      "1000 guesses for 2309 solutions takes 4.4751927852630615\n"
     ]
    }
   ],
   "source": [
    "def test_time_compute_wordle_colours_simple(all_words, potential_words):\n",
    "    start_time = time.time()\n",
    "    for i in all_words:\n",
    "        for word in potential_words:\n",
    "            wf.return_wordle_colours_list(i, word)\n",
    "\n",
    "    duration = time.time() - start_time\n",
    "    print(f'{len(all_words)} guesses for {len(potential_words)} solutions takes {duration}')\n",
    "    pass\n",
    "\n",
    "def test_time_compute_wordle_colours_simple_str(all_words, potential_words):\n",
    "    start_time = time.time()\n",
    "    for i in all_words:\n",
    "        for word in potential_words:\n",
    "            wf.return_wordle_colours_str(i, word)\n",
    "\n",
    "    duration = time.time() - start_time\n",
    "    print(f'{len(all_words)} guesses for {len(potential_words)} solutions takes {duration}')\n",
    "    pass\n",
    "\n",
    "test_guesses = total_guesses[:1000] # [\"metes\"] #\n",
    "test_solutions = potential_solutions\n",
    "\n",
    "test_time_compute_wordle_colours_simple(test_guesses, test_solutions)\n",
    "test_time_compute_wordle_colours_simple_str(test_guesses, test_solutions)"
   ]
  },
  {
   "cell_type": "markdown",
   "id": "3c1c45ba",
   "metadata": {},
   "source": [
    "## Evaluating the time to correct the wordle feedback\n",
    "This code uses the \"return_corrected_wordle_clue\" function to get feedback for all potential guesses against a list of potential solutions"
   ]
  },
  {
   "cell_type": "code",
   "execution_count": 24,
   "id": "e47718ec",
   "metadata": {},
   "outputs": [
    {
     "name": "stdout",
     "output_type": "stream",
     "text": [
      "1000 guesses for 2309 solutions takes 10.608299970626831\n"
     ]
    },
    {
     "data": {
      "text/plain": [
       "('bocca', 'shave', 'BBBBY')"
      ]
     },
     "execution_count": 24,
     "metadata": {},
     "output_type": "execute_result"
    }
   ],
   "source": [
    "def test_time_return_corrected_wordle_clue(all_words, potential_words):\n",
    "    start_time = time.time()\n",
    "    for i in all_words:\n",
    "        for word in potential_words:\n",
    "            feedback = wf.return_corrected_wordle_clue(i, word)\n",
    "    duration = time.time() - start_time\n",
    "    print(f'{len(all_words)} guesses for {len(potential_words)} solutions takes {duration}')\n",
    "    return i, word, feedback\n",
    "\n",
    "test_guesses = total_guesses[:1000] \n",
    "test_solutions = potential_solutions\n",
    "\n",
    "test_time_return_corrected_wordle_clue(test_guesses, test_solutions)"
   ]
  },
  {
   "cell_type": "markdown",
   "id": "6b39b14b",
   "metadata": {},
   "source": [
    "We can see that this process takes 10 seconds, rather than the 4.5 seconds the \"simple\" wordle feedback would take.\n",
    "\n",
    "The compute_wordle_colours function attempts to make this process more efficient."
   ]
  },
  {
   "cell_type": "markdown",
   "id": "a549947d",
   "metadata": {},
   "source": [
    "## Speeding up the feedback"
   ]
  },
  {
   "cell_type": "code",
   "execution_count": 85,
   "id": "ce47d0bb",
   "metadata": {},
   "outputs": [
    {
     "name": "stdout",
     "output_type": "stream",
     "text": [
      "1000 guesses for 2309 solutions takes 7.214657545089722\n"
     ]
    },
    {
     "data": {
      "text/plain": [
       "('bocca', 'shave', 'BBBBY')"
      ]
     },
     "execution_count": 85,
     "metadata": {},
     "output_type": "execute_result"
    }
   ],
   "source": [
    "def test_time_compute_wordle_colours(all_words, potential_words):\n",
    "    start_time = time.time()\n",
    "    for i in all_words:\n",
    "        guess_results = wf.compute_wordle_colours_for_one_word(i, potential_words)\n",
    "    duration = time.time() - start_time\n",
    "    print(f'{len(all_words)} guesses for {len(potential_words)} solutions takes {duration}')\n",
    "    return i, potential_words[-1], guess_results[potential_words[-1]]\n",
    "\n",
    "test_guesses = total_guesses[:1000] \n",
    "test_solutions = potential_solutions\n",
    "\n",
    "test_time_compute_wordle_colours(test_guesses, test_solutions)"
   ]
  },
  {
   "cell_type": "markdown",
   "id": "1ec369bc",
   "metadata": {},
   "source": [
    "Using the \"compute_wordle_colours_for_one_word\" function speeds up the process"
   ]
  },
  {
   "cell_type": "markdown",
   "id": "48b55353",
   "metadata": {},
   "source": [
    "# Evaluating the next guess analysis"
   ]
  },
  {
   "cell_type": "markdown",
   "id": "f8493fd1",
   "metadata": {},
   "source": [
    "## Time to get feedback"
   ]
  },
  {
   "cell_type": "markdown",
   "id": "ad5a15a6",
   "metadata": {},
   "source": [
    "Using a situation where the first guess was \"trace\" and the secret word was story, we can test how long it would take to calculate the optimal next guess.\n",
    "\n",
    "To start with we can look at how long it would take to just calculate the feedback for each potential word against the remaining solutions"
   ]
  },
  {
   "cell_type": "code",
   "execution_count": 38,
   "id": "ccea6d8d",
   "metadata": {},
   "outputs": [
    {
     "name": "stdout",
     "output_type": "stream",
     "text": [
      "YYBBB ['forth', 'first', 'motor', 'blurt', 'robot', 'story', 'girth', 'rusty', 'sport', 'worst', 'strut', 'burnt', 'stork', 'storm', 'worth', 'short', 'flirt', 'forty', 'burst', 'snort', 'shirt', 'spurt', 'birth', 'strip', 'north', 'right', 'dirty', 'mirth', 'rotor', 'roost', 'intro', 'skirt'] 32 12947\n",
      "12947 guesses for 32 solutions takes 1.2387464046478271\n"
     ]
    },
    {
     "data": {
      "text/plain": [
       "('shave', 'skirt', 'GBBBB')"
      ]
     },
     "execution_count": 38,
     "metadata": {},
     "output_type": "execute_result"
    }
   ],
   "source": [
    "def test_time_compute_wordle_colours(all_words, potential_words):\n",
    "    start_time = time.time()\n",
    "    for i in all_words:\n",
    "        guess_results = wf.compute_wordle_colours_for_one_word(i, potential_words)\n",
    "    duration = time.time() - start_time\n",
    "    print(f'{len(all_words)} guesses for {len(potential_words)} solutions takes {duration}')\n",
    "    return i, potential_words[-1], guess_results[potential_words[-1]]\n",
    "\n",
    "feedback = wf.return_corrected_wordle_clue(\"trace\", \"story\")\n",
    "test_guesses = total_guesses\n",
    "test_solutions = [i for i in potential_solutions if wf.return_corrected_wordle_clue(\"trace\", i) == feedback]\n",
    "print(feedback, test_solutions, len(test_solutions), len(test_guesses))\n",
    "test_time_compute_wordle_colours(test_guesses, test_solutions)"
   ]
  },
  {
   "cell_type": "markdown",
   "id": "925ebf78",
   "metadata": {},
   "source": [
    "## Time to create the whole analysis dataframe"
   ]
  },
  {
   "cell_type": "code",
   "execution_count": 86,
   "id": "8bad2c0c",
   "metadata": {},
   "outputs": [
    {
     "name": "stdout",
     "output_type": "stream",
     "text": [
      "12947 guesses for 32 solutions takes 53.348191022872925\n"
     ]
    },
    {
     "data": {
      "text/html": [
       "<div>\n",
       "<style scoped>\n",
       "    .dataframe tbody tr th:only-of-type {\n",
       "        vertical-align: middle;\n",
       "    }\n",
       "\n",
       "    .dataframe tbody tr th {\n",
       "        vertical-align: top;\n",
       "    }\n",
       "\n",
       "    .dataframe thead th {\n",
       "        text-align: right;\n",
       "    }\n",
       "</style>\n",
       "<table border=\"1\" class=\"dataframe\">\n",
       "  <thead>\n",
       "    <tr style=\"text-align: right;\">\n",
       "      <th></th>\n",
       "      <th>Guess</th>\n",
       "      <th>AverageRemainingSolutions</th>\n",
       "      <th>NumberOfGroups</th>\n",
       "      <th>WordsPerGroup</th>\n",
       "      <th>PotentialSolution</th>\n",
       "    </tr>\n",
       "  </thead>\n",
       "  <tbody>\n",
       "    <tr>\n",
       "      <th>0</th>\n",
       "      <td>horst</td>\n",
       "      <td>1.8750</td>\n",
       "      <td>21</td>\n",
       "      <td>1.52381</td>\n",
       "      <td>0</td>\n",
       "    </tr>\n",
       "    <tr>\n",
       "      <th>0</th>\n",
       "      <td>shout</td>\n",
       "      <td>2.0625</td>\n",
       "      <td>21</td>\n",
       "      <td>1.52381</td>\n",
       "      <td>0</td>\n",
       "    </tr>\n",
       "    <tr>\n",
       "      <th>0</th>\n",
       "      <td>short</td>\n",
       "      <td>2.0000</td>\n",
       "      <td>20</td>\n",
       "      <td>1.60000</td>\n",
       "      <td>1</td>\n",
       "    </tr>\n",
       "    <tr>\n",
       "      <th>0</th>\n",
       "      <td>birsy</td>\n",
       "      <td>2.4375</td>\n",
       "      <td>20</td>\n",
       "      <td>1.60000</td>\n",
       "      <td>0</td>\n",
       "    </tr>\n",
       "    <tr>\n",
       "      <th>0</th>\n",
       "      <td>horis</td>\n",
       "      <td>2.3125</td>\n",
       "      <td>20</td>\n",
       "      <td>1.60000</td>\n",
       "      <td>0</td>\n",
       "    </tr>\n",
       "  </tbody>\n",
       "</table>\n",
       "</div>"
      ],
      "text/plain": [
       "   Guess  AverageRemainingSolutions  NumberOfGroups  WordsPerGroup  \\\n",
       "0  horst                     1.8750              21        1.52381   \n",
       "0  shout                     2.0625              21        1.52381   \n",
       "0  short                     2.0000              20        1.60000   \n",
       "0  birsy                     2.4375              20        1.60000   \n",
       "0  horis                     2.3125              20        1.60000   \n",
       "\n",
       "   PotentialSolution  \n",
       "0                  0  \n",
       "0                  0  \n",
       "0                  1  \n",
       "0                  0  \n",
       "0                  0  "
      ]
     },
     "execution_count": 86,
     "metadata": {},
     "output_type": "execute_result"
    }
   ],
   "source": [
    "def test_time_word_guesser(all_words, potential_words):\n",
    "    start_time = time.time()\n",
    "    first_guess_df = pd.DataFrame()\n",
    "    for i in all_words: # [\"raise\",\"crane\"]: #\n",
    "        guess_results = wf.compute_wordle_colours_for_one_word(i, potential_words)\n",
    "        sum_of_groups = wf.sum_groups_of_hints(guess_results)\n",
    "        expected_words_left = wf.average_solutions_left_after_guess(sum_of_groups)\n",
    "        potential_solution = wf.is_word_in_list(i, potential_words)\n",
    "        guess_df = wf.create_guess_df(i, expected_words_left, sum_of_groups, potential_solution)\n",
    "        first_guess_df = pd.concat([first_guess_df, guess_df])\n",
    "    first_guess_df = first_guess_df.sort_values(by=[\"NumberOfGroups\",\"PotentialSolution\"], ascending=[False, False])\n",
    "    \n",
    "    duration = time.time() - start_time\n",
    "    print(f'{len(all_words)} guesses for {len(potential_words)} solutions takes {duration}')\n",
    "    return first_guess_df\n",
    "\n",
    "feedback = wf.return_corrected_wordle_clue(\"trace\", \"story\")\n",
    "test_guesses = total_guesses\n",
    "test_solutions = [i for i in potential_solutions if wf.return_corrected_wordle_clue(\"trace\", i) == feedback]\n",
    "test_df = test_time_word_guesser(test_guesses, test_solutions)\n",
    "test_df.head()"
   ]
  },
  {
   "cell_type": "markdown",
   "id": "68387a18",
   "metadata": {},
   "source": [
    "It takes 53 seconds for the analysis dataset to be produced. If we were to do this for each guess - analysing performacne for all words would take an impossibly long time. \n",
    "\n",
    "Given we know it only takes 1.2 seconds to calculate the wordle feedback for this situation - the time must be coming from some of the other functions."
   ]
  },
  {
   "cell_type": "markdown",
   "id": "965dd0c7",
   "metadata": {},
   "source": [
    "## Finding out where the time is being taken\n",
    "By adding functions to the analysis code one by one and timing them we can identify where the time is being taken."
   ]
  },
  {
   "cell_type": "code",
   "execution_count": 87,
   "id": "ce89586e",
   "metadata": {},
   "outputs": [
    {
     "name": "stdout",
     "output_type": "stream",
     "text": [
      "YYBBB ['forth', 'first', 'motor', 'blurt', 'robot', 'story', 'girth', 'rusty', 'sport', 'worst', 'strut', 'burnt', 'stork', 'storm', 'worth', 'short', 'flirt', 'forty', 'burst', 'snort', 'shirt', 'spurt', 'birth', 'strip', 'north', 'right', 'dirty', 'mirth', 'rotor', 'roost', 'intro', 'skirt'] 32 12947\n",
      "12947 guesses for 32 solutions takes 1.175452470779419\n",
      "12947 guesses for 32 solutions takes 1.3877387046813965\n",
      "12947 guesses for 32 solutions takes 1.4031789302825928\n",
      "12947 guesses for 32 solutions takes 1.4203708171844482\n",
      "12947 guesses for 32 solutions takes 29.039681434631348\n",
      "12947 guesses for 32 solutions takes 55.723016023635864\n"
     ]
    }
   ],
   "source": [
    "def test_time_word_guesser_indiv(all_words, potential_words):\n",
    "    start_time = time.time()\n",
    "    first_guess_df = pd.DataFrame()\n",
    "    for i in all_words: # [\"raise\",\"crane\"]: #\n",
    "        guess_results = wf.compute_wordle_colours_for_one_word(i, potential_words)\n",
    "        \n",
    "    duration = time.time() - start_time\n",
    "    print(f'{len(all_words)} guesses for {len(potential_words)} solutions takes {duration}')\n",
    "    \n",
    "    start_time = time.time()\n",
    "    first_guess_df = pd.DataFrame()\n",
    "    for i in all_words: # [\"raise\",\"crane\"]: #\n",
    "        guess_results = wf.compute_wordle_colours_for_one_word(i, potential_words)\n",
    "        sum_of_groups = wf.sum_groups_of_hints(guess_results)\n",
    "    duration = time.time() - start_time\n",
    "    print(f'{len(all_words)} guesses for {len(potential_words)} solutions takes {duration}')\n",
    "        \n",
    "    start_time = time.time()\n",
    "    first_guess_df = pd.DataFrame()\n",
    "    for i in all_words: # [\"raise\",\"crane\"]: #\n",
    "        guess_results = wf.compute_wordle_colours_for_one_word(i, potential_words)\n",
    "        sum_of_groups = wf.sum_groups_of_hints(guess_results)\n",
    "        expected_words_left = wf.average_solutions_left_after_guess(sum_of_groups)\n",
    "    duration = time.time() - start_time\n",
    "    print(f'{len(all_words)} guesses for {len(potential_words)} solutions takes {duration}')\n",
    "    \n",
    "    start_time = time.time()\n",
    "    first_guess_df = pd.DataFrame()\n",
    "    for i in all_words: # [\"raise\",\"crane\"]: #\n",
    "        guess_results = wf.compute_wordle_colours_for_one_word(i, potential_words)\n",
    "        sum_of_groups = wf.sum_groups_of_hints(guess_results)\n",
    "        expected_words_left = wf.average_solutions_left_after_guess(sum_of_groups)\n",
    "        potential_solution = wf.is_word_in_list(i, potential_words)\n",
    "    duration = time.time() - start_time\n",
    "    print(f'{len(all_words)} guesses for {len(potential_words)} solutions takes {duration}')\n",
    "    \n",
    "    start_time = time.time()\n",
    "    first_guess_df = pd.DataFrame()\n",
    "    for i in all_words: # [\"raise\",\"crane\"]: #\n",
    "        guess_results = wf.compute_wordle_colours_for_one_word(i, potential_words)\n",
    "        sum_of_groups = wf.sum_groups_of_hints(guess_results)\n",
    "        expected_words_left = wf.average_solutions_left_after_guess(sum_of_groups)\n",
    "        potential_solution = wf.is_word_in_list(i, potential_words)\n",
    "        guess_df = wf.create_guess_df(i, expected_words_left, sum_of_groups, potential_solution)\n",
    "    duration = time.time() - start_time\n",
    "    print(f'{len(all_words)} guesses for {len(potential_words)} solutions takes {duration}')\n",
    "    \n",
    "    start_time = time.time()\n",
    "    first_guess_df = pd.DataFrame()\n",
    "    for i in all_words: # [\"raise\",\"crane\"]: #\n",
    "        guess_results = wf.compute_wordle_colours_for_one_word(i, potential_words)\n",
    "        sum_of_groups = wf.sum_groups_of_hints(guess_results)\n",
    "        expected_words_left = wf.average_solutions_left_after_guess(sum_of_groups)\n",
    "        potential_solution = wf.is_word_in_list(i, potential_words)\n",
    "        guess_df = wf.create_guess_df(i, expected_words_left, sum_of_groups, potential_solution)\n",
    "        first_guess_df = pd.concat([first_guess_df, guess_df])\n",
    "    duration = time.time() - start_time\n",
    "    print(f'{len(all_words)} guesses for {len(potential_words)} solutions takes {duration}')\n",
    "    \n",
    "    \n",
    "feedback = wf.return_corrected_wordle_clue(\"trace\", \"story\")\n",
    "test_guesses = total_guesses\n",
    "test_solutions = [i for i in potential_solutions if wf.return_corrected_wordle_clue(\"trace\", i) == feedback]\n",
    "print(feedback, test_solutions, len(test_solutions), len(test_guesses))\n",
    "\n",
    "test_df = test_time_word_guesser_indiv(test_guesses, test_solutions)"
   ]
  },
  {
   "cell_type": "markdown",
   "id": "266788d7",
   "metadata": {},
   "source": [
    "From this we can see that the time comes from creating a dataframe for each word - and then even more time is taken from appending to our analysis dataframe each time"
   ]
  },
  {
   "cell_type": "markdown",
   "id": "dbdffa41",
   "metadata": {},
   "source": [
    "# Creating Dataframes\n",
    "Creating a dataframe adds a lot of time to the process.\n",
    "\n",
    "It might be more efficient to work with lists. Below is the original function used to create a df of summary stats as well as alternate code that could store the same information as a list."
   ]
  },
  {
   "cell_type": "code",
   "execution_count": 88,
   "id": "18ed25db",
   "metadata": {},
   "outputs": [],
   "source": [
    "# This is the process currently being used \n",
    "def create_guess_df(starting_word, words_left, word_groups, possible_solution):\n",
    "    df = pd.DataFrame()\n",
    "    df[\"Guess\"] = [starting_word]\n",
    "    df[\"AverageRemainingSolutions\"] = [words_left]\n",
    "    df[\"NumberOfGroups\"] = [len(word_groups)]\n",
    "    df[\"WordsPerGroup\"] = [sum(word_groups.values()) / len(word_groups)]\n",
    "    df[\"PotentialSolution\"] = [possible_solution]\n",
    "    return df\n",
    "\n",
    "def create_guess_list(starting_word, words_left, word_groups, possible_solution):\n",
    "    start_time = time.time()\n",
    "    NumberOfGroups = len(word_groups)\n",
    "    WordsPerGroup = sum(word_groups.values()) / len(word_groups)\n",
    "    output_list = [starting_word, words_left, NumberOfGroups, WordsPerGroup, possible_solution]\n",
    "    duration = time.time() - start_time\n",
    "    return output_list"
   ]
  },
  {
   "cell_type": "markdown",
   "id": "4a1fc042",
   "metadata": {},
   "source": [
    "## Timing the difference"
   ]
  },
  {
   "cell_type": "code",
   "execution_count": 90,
   "id": "e66fdebc",
   "metadata": {},
   "outputs": [
    {
     "name": "stdout",
     "output_type": "stream",
     "text": [
      "12947 guesses for 32 solutions takes 30.23156762123108\n",
      "12947 guesses for 32 solutions takes 1.4954402446746826\n"
     ]
    }
   ],
   "source": [
    "def test_word_guesser(all_words, potential_words):\n",
    "    start_time = time.time()\n",
    "    first_guess_df = pd.DataFrame()\n",
    "    for i in all_words: # [\"raise\",\"crane\"]: #\n",
    "        guess_results = wf.compute_wordle_colours_for_one_word(i, potential_words)\n",
    "        sum_of_groups = wf.sum_groups_of_hints(guess_results)\n",
    "        expected_words_left = wf.average_solutions_left_after_guess(sum_of_groups)\n",
    "        potential_solution = wf.is_word_in_list(i, potential_words)\n",
    "        # creating a dataframe\n",
    "        guess_df = wf.create_guess_df(i, expected_words_left, sum_of_groups, potential_solution)\n",
    "\n",
    "    duration = time.time() - start_time\n",
    "    print(f'{len(all_words)} guesses for {len(potential_words)} solutions takes {duration}')\n",
    "    return guess_df\n",
    "\n",
    "def test_word_guesser_list(all_words, potential_words):\n",
    "    start_time = time.time()\n",
    "    first_guess_list = []\n",
    "    for i in all_words: # [\"raise\",\"crane\"]: #\n",
    "        guess_results = wf.compute_wordle_colours_for_one_word(i, potential_words)\n",
    "        sum_of_groups = wf.sum_groups_of_hints(guess_results)\n",
    "        expected_words_left = wf.average_solutions_left_after_guess(sum_of_groups)\n",
    "        potential_solution = wf.is_word_in_list(i, potential_words)\n",
    "        # creating a list instead of a dataframe\n",
    "        guess_list = create_guess_list(i, expected_words_left, sum_of_groups, potential_solution)\n",
    "        \n",
    "    duration = time.time() - start_time\n",
    "    print(f'{len(all_words)} guesses for {len(potential_words)} solutions takes {duration}')\n",
    "    return guess_list\n",
    "\n",
    "feedback = wf.return_corrected_wordle_clue(\"trace\", \"story\")\n",
    "test_guesses = total_guesses\n",
    "test_solutions = [i for i in potential_solutions if wf.return_corrected_wordle_clue(\"trace\", i) == feedback]\n",
    "\n",
    "guess_df = test_word_guesser(test_guesses, test_solutions)\n",
    "guess_list = test_word_guesser_list(test_guesses, test_solutions)"
   ]
  },
  {
   "cell_type": "markdown",
   "id": "a0b15573",
   "metadata": {},
   "source": [
    "Creating a list instead of a dataframe speeds up the process immeasurably. However, we still want to create a dataframe of the outputs at some point"
   ]
  },
  {
   "cell_type": "code",
   "execution_count": 91,
   "id": "f0acda99",
   "metadata": {},
   "outputs": [
    {
     "data": {
      "text/html": [
       "<div>\n",
       "<style scoped>\n",
       "    .dataframe tbody tr th:only-of-type {\n",
       "        vertical-align: middle;\n",
       "    }\n",
       "\n",
       "    .dataframe tbody tr th {\n",
       "        vertical-align: top;\n",
       "    }\n",
       "\n",
       "    .dataframe thead th {\n",
       "        text-align: right;\n",
       "    }\n",
       "</style>\n",
       "<table border=\"1\" class=\"dataframe\">\n",
       "  <thead>\n",
       "    <tr style=\"text-align: right;\">\n",
       "      <th></th>\n",
       "      <th>Guess</th>\n",
       "      <th>AverageRemainingSolutions</th>\n",
       "      <th>NumberOfGroups</th>\n",
       "      <th>WordsPerGroup</th>\n",
       "      <th>PotentialSolution</th>\n",
       "    </tr>\n",
       "  </thead>\n",
       "  <tbody>\n",
       "    <tr>\n",
       "      <th>0</th>\n",
       "      <td>shave</td>\n",
       "      <td>7.5</td>\n",
       "      <td>5</td>\n",
       "      <td>6.4</td>\n",
       "      <td>0</td>\n",
       "    </tr>\n",
       "  </tbody>\n",
       "</table>\n",
       "</div>"
      ],
      "text/plain": [
       "   Guess  AverageRemainingSolutions  NumberOfGroups  WordsPerGroup  \\\n",
       "0  shave                        7.5               5            6.4   \n",
       "\n",
       "   PotentialSolution  \n",
       "0                  0  "
      ]
     },
     "execution_count": 91,
     "metadata": {},
     "output_type": "execute_result"
    }
   ],
   "source": [
    "# this is the output from the dataframe process\n",
    "guess_df.head()"
   ]
  },
  {
   "cell_type": "code",
   "execution_count": 92,
   "id": "c45ec628",
   "metadata": {},
   "outputs": [
    {
     "data": {
      "text/html": [
       "<div>\n",
       "<style scoped>\n",
       "    .dataframe tbody tr th:only-of-type {\n",
       "        vertical-align: middle;\n",
       "    }\n",
       "\n",
       "    .dataframe tbody tr th {\n",
       "        vertical-align: top;\n",
       "    }\n",
       "\n",
       "    .dataframe thead th {\n",
       "        text-align: right;\n",
       "    }\n",
       "</style>\n",
       "<table border=\"1\" class=\"dataframe\">\n",
       "  <thead>\n",
       "    <tr style=\"text-align: right;\">\n",
       "      <th></th>\n",
       "      <th>Guess</th>\n",
       "      <th>AverageRemainingSolutions</th>\n",
       "      <th>NumberOfGroups</th>\n",
       "      <th>WordsPerGroup</th>\n",
       "      <th>PotentialSolution</th>\n",
       "    </tr>\n",
       "  </thead>\n",
       "  <tbody>\n",
       "    <tr>\n",
       "      <th>0</th>\n",
       "      <td>shave</td>\n",
       "      <td>7.5</td>\n",
       "      <td>5</td>\n",
       "      <td>6.4</td>\n",
       "      <td>0</td>\n",
       "    </tr>\n",
       "  </tbody>\n",
       "</table>\n",
       "</div>"
      ],
      "text/plain": [
       "   Guess  AverageRemainingSolutions  NumberOfGroups  WordsPerGroup  \\\n",
       "0  shave                        7.5               5            6.4   \n",
       "\n",
       "   PotentialSolution  \n",
       "0                  0  "
      ]
     },
     "execution_count": 92,
     "metadata": {},
     "output_type": "execute_result"
    }
   ],
   "source": [
    "# this is the output after converting the list output to a dataframe\n",
    "column_names = [\"Guess\", \"AverageRemainingSolutions\", \"NumberOfGroups\", \"WordsPerGroup\", \"PotentialSolution\"]\n",
    "pd.DataFrame([guess_list], columns =column_names)"
   ]
  },
  {
   "cell_type": "code",
   "execution_count": null,
   "id": "05feebde",
   "metadata": {},
   "outputs": [],
   "source": []
  },
  {
   "cell_type": "code",
   "execution_count": 93,
   "id": "531cbb9f",
   "metadata": {},
   "outputs": [
    {
     "name": "stdout",
     "output_type": "stream",
     "text": [
      "12947 guesses for 32 solutions takes 27.95076632499695\n",
      "12947 guesses for 32 solutions takes 9.644094228744507\n"
     ]
    }
   ],
   "source": [
    "def test_word_guesser_list(all_words, potential_words):\n",
    "    start_time = time.time()\n",
    "    first_guess_list = []\n",
    "    for i in all_words: # [\"raise\",\"crane\"]: #\n",
    "        guess_results = wf.compute_wordle_colours_for_one_word(i, potential_words)\n",
    "        sum_of_groups = wf.sum_groups_of_hints(guess_results)\n",
    "        expected_words_left = wf.average_solutions_left_after_guess(sum_of_groups)\n",
    "        potential_solution = wf.is_word_in_list(i, potential_words)\n",
    "        # creating a list instead of a dataframe\n",
    "        guess_list = create_guess_list(i, expected_words_left, sum_of_groups, potential_solution)\n",
    "        #creating a dataframe\n",
    "        guess_df = pd.DataFrame([guess_list], columns =column_names)\n",
    "        \n",
    "    duration = time.time() - start_time\n",
    "    print(f'{len(all_words)} guesses for {len(potential_words)} solutions takes {duration}')\n",
    "    return guess_df\n",
    "\n",
    "feedback = wf.return_corrected_wordle_clue(\"trace\", \"story\")\n",
    "test_guesses = total_guesses\n",
    "test_solutions = [i for i in potential_solutions if wf.return_corrected_wordle_clue(\"trace\", i) == feedback]\n",
    "\n",
    "guess_df = test_word_guesser(test_guesses, test_solutions)\n",
    "guess_list = test_word_guesser_list(test_guesses, test_solutions)"
   ]
  },
  {
   "cell_type": "markdown",
   "id": "0450138f",
   "metadata": {},
   "source": [
    "creating a dataframe this way is much quicker"
   ]
  },
  {
   "cell_type": "markdown",
   "id": "4e64ff72",
   "metadata": {},
   "source": [
    "## List of dfs vs concatenating dataframes\n",
    "One way to speed up this process would be to create a list of dataframes and then concatenat them all together once - rather than concatenating the dataframe each time"
   ]
  },
  {
   "cell_type": "code",
   "execution_count": 98,
   "id": "e713b464",
   "metadata": {},
   "outputs": [
    {
     "name": "stdout",
     "output_type": "stream",
     "text": [
      "12947 guesses for 32 solutions takes 32.04566240310669\n",
      "12947 guesses for 32 solutions takes 15.005730628967285\n"
     ]
    }
   ],
   "source": [
    "def test_word_guesser_append_dfs(all_words, potential_words):\n",
    "    start_time = time.time()\n",
    "    first_guess_df = pd.DataFrame()\n",
    "    for i in all_words: # [\"raise\",\"crane\"]: #\n",
    "        guess_results = wf.compute_wordle_colours_for_one_word(i, potential_words)\n",
    "        sum_of_groups = wf.sum_groups_of_hints(guess_results)\n",
    "        expected_words_left = wf.average_solutions_left_after_guess(sum_of_groups)\n",
    "        potential_solution = wf.is_word_in_list(i, potential_words)\n",
    "        # creating a dataframe\n",
    "        guess_list = create_guess_list(i, expected_words_left, sum_of_groups, potential_solution)\n",
    "        guess_df = pd.DataFrame([guess_list], columns =column_names)\n",
    "        \n",
    "        # appending dataframes \n",
    "        first_guess_df = pd.concat([first_guess_df, guess_df], axis=0)\n",
    "\n",
    "    duration = time.time() - start_time\n",
    "    print(f'{len(all_words)} guesses for {len(potential_words)} solutions takes {duration}')\n",
    "    return first_guess_df\n",
    "\n",
    "def test_word_guesser_list_of_dfs(all_words, potential_words):\n",
    "    start_time = time.time()\n",
    "    total_guess_list = []\n",
    "    for i in all_words: # [\"raise\",\"crane\"]: #\n",
    "        guess_results = wf.compute_wordle_colours_for_one_word(i, potential_words)\n",
    "        sum_of_groups = wf.sum_groups_of_hints(guess_results)\n",
    "        expected_words_left = wf.average_solutions_left_after_guess(sum_of_groups)\n",
    "        potential_solution = wf.is_word_in_list(i, potential_words)\n",
    "        # creating a list instead of a dataframe\n",
    "        guess_list = create_guess_list(i, expected_words_left, sum_of_groups, potential_solution)\n",
    "        guess_df = pd.DataFrame([guess_list], columns =column_names)\n",
    "        \n",
    "        #append to a list of dataframes\n",
    "        total_guess_list.append(guess_df)\n",
    "    \n",
    "    #concatenate the list of dataframes to create a final dataframe\n",
    "    first_guess_df = pd.concat(total_guess_list, axis=0)\n",
    "    duration = time.time() - start_time\n",
    "    print(f'{len(all_words)} guesses for {len(potential_words)} solutions takes {duration}')\n",
    "    return first_guess_df\n",
    "\n",
    "feedback = wf.return_corrected_wordle_clue(\"trace\", \"story\")\n",
    "test_guesses = total_guesses\n",
    "test_solutions = [i for i in potential_solutions if wf.return_corrected_wordle_clue(\"trace\", i) == feedback]\n",
    "\n",
    "guess_df = test_word_guesser_append_dfs(test_guesses, test_solutions)\n",
    "guess_list_dfs = test_word_guesser_list_of_dfs(test_guesses, test_solutions)"
   ]
  },
  {
   "cell_type": "markdown",
   "id": "133468a1",
   "metadata": {},
   "source": [
    "Concatenating the dataframe each time takes almost twice as long as creating a list of dataframes and concatenating them once"
   ]
  },
  {
   "cell_type": "markdown",
   "id": "abf6f585",
   "metadata": {},
   "source": [
    "## List of Lists to DataFrame"
   ]
  },
  {
   "cell_type": "code",
   "execution_count": 99,
   "id": "9540a528",
   "metadata": {},
   "outputs": [
    {
     "name": "stdout",
     "output_type": "stream",
     "text": [
      "12947 guesses for 32 solutions takes 13.98380160331726\n",
      "12947 guesses for 32 solutions takes 1.5815777778625488\n"
     ]
    }
   ],
   "source": [
    "def test_word_guesser_list_of_lists(all_words, potential_words):\n",
    "    start_time = time.time()\n",
    "    total_guess_list = []\n",
    "    column_names = [\"Guess\", \"AverageRemainingSolutions\", \"NumberOfGroups\", \"WordsPerGroup\", \"PotentialSolution\"]\n",
    "    for i in all_words: # [\"raise\",\"crane\"]: #\n",
    "        guess_results = wf.compute_wordle_colours_for_one_word(i, potential_words)\n",
    "        sum_of_groups = wf.sum_groups_of_hints(guess_results)\n",
    "        expected_words_left = wf.average_solutions_left_after_guess(sum_of_groups)\n",
    "        potential_solution = wf.is_word_in_list(i, potential_words)\n",
    "        # create list of results\n",
    "        guess_list = create_guess_list(i, expected_words_left, sum_of_groups, potential_solution)\n",
    "        # append to list of list of results\n",
    "        total_guess_list.append(guess_list)\n",
    "    \n",
    "    # create dataframe from list of lists \n",
    "    first_guess_df = pd.DataFrame(total_guess_list, columns =column_names)\n",
    "    first_guess_df = first_guess_df.sort_values(by=[\"NumberOfGroups\",\"PotentialSolution\"], ascending=[False, False])\n",
    "    duration = time.time() - start_time\n",
    "    print(f'{len(all_words)} guesses for {len(potential_words)} solutions takes {duration}')\n",
    "    return first_guess_df\n",
    "\n",
    "feedback = wf.return_corrected_wordle_clue(\"trace\", \"story\")\n",
    "test_guesses = total_guesses\n",
    "test_solutions = [i for i in potential_solutions if wf.return_corrected_wordle_clue(\"trace\", i) == feedback]\n",
    "\n",
    "# this is hopefully the most optimal solution\n",
    "all_guess_df = test_word_guesser_list_of_lists(test_guesses, test_solutions)"
   ]
  },
  {
   "cell_type": "markdown",
   "id": "f52548e2",
   "metadata": {},
   "source": [
    "This now takes 1.5 seconds!"
   ]
  },
  {
   "cell_type": "markdown",
   "id": "4fff63b3",
   "metadata": {},
   "source": [
    "# Comparing final outputs"
   ]
  },
  {
   "cell_type": "code",
   "execution_count": 100,
   "id": "2fa1c7d4",
   "metadata": {},
   "outputs": [
    {
     "name": "stdout",
     "output_type": "stream",
     "text": [
      "12947 guesses for 32 solutions takes 54.54368448257446\n"
     ]
    },
    {
     "data": {
      "text/html": [
       "<div>\n",
       "<style scoped>\n",
       "    .dataframe tbody tr th:only-of-type {\n",
       "        vertical-align: middle;\n",
       "    }\n",
       "\n",
       "    .dataframe tbody tr th {\n",
       "        vertical-align: top;\n",
       "    }\n",
       "\n",
       "    .dataframe thead th {\n",
       "        text-align: right;\n",
       "    }\n",
       "</style>\n",
       "<table border=\"1\" class=\"dataframe\">\n",
       "  <thead>\n",
       "    <tr style=\"text-align: right;\">\n",
       "      <th></th>\n",
       "      <th>Guess</th>\n",
       "      <th>AverageRemainingSolutions</th>\n",
       "      <th>NumberOfGroups</th>\n",
       "      <th>WordsPerGroup</th>\n",
       "      <th>PotentialSolution</th>\n",
       "    </tr>\n",
       "  </thead>\n",
       "  <tbody>\n",
       "    <tr>\n",
       "      <th>0</th>\n",
       "      <td>horst</td>\n",
       "      <td>1.8750</td>\n",
       "      <td>21</td>\n",
       "      <td>1.52381</td>\n",
       "      <td>0</td>\n",
       "    </tr>\n",
       "    <tr>\n",
       "      <th>0</th>\n",
       "      <td>shout</td>\n",
       "      <td>2.0625</td>\n",
       "      <td>21</td>\n",
       "      <td>1.52381</td>\n",
       "      <td>0</td>\n",
       "    </tr>\n",
       "    <tr>\n",
       "      <th>0</th>\n",
       "      <td>short</td>\n",
       "      <td>2.0000</td>\n",
       "      <td>20</td>\n",
       "      <td>1.60000</td>\n",
       "      <td>1</td>\n",
       "    </tr>\n",
       "    <tr>\n",
       "      <th>0</th>\n",
       "      <td>birsy</td>\n",
       "      <td>2.4375</td>\n",
       "      <td>20</td>\n",
       "      <td>1.60000</td>\n",
       "      <td>0</td>\n",
       "    </tr>\n",
       "    <tr>\n",
       "      <th>0</th>\n",
       "      <td>horis</td>\n",
       "      <td>2.3125</td>\n",
       "      <td>20</td>\n",
       "      <td>1.60000</td>\n",
       "      <td>0</td>\n",
       "    </tr>\n",
       "  </tbody>\n",
       "</table>\n",
       "</div>"
      ],
      "text/plain": [
       "   Guess  AverageRemainingSolutions  NumberOfGroups  WordsPerGroup  \\\n",
       "0  horst                     1.8750              21        1.52381   \n",
       "0  shout                     2.0625              21        1.52381   \n",
       "0  short                     2.0000              20        1.60000   \n",
       "0  birsy                     2.4375              20        1.60000   \n",
       "0  horis                     2.3125              20        1.60000   \n",
       "\n",
       "   PotentialSolution  \n",
       "0                  0  \n",
       "0                  0  \n",
       "0                  1  \n",
       "0                  0  \n",
       "0                  0  "
      ]
     },
     "execution_count": 100,
     "metadata": {},
     "output_type": "execute_result"
    }
   ],
   "source": [
    "feedback = wf.return_corrected_wordle_clue(\"trace\", \"story\")\n",
    "test_guesses = total_guesses\n",
    "test_solutions = [i for i in potential_solutions if wf.return_corrected_wordle_clue(\"trace\", i) == feedback]\n",
    "test_df = test_time_word_guesser(test_guesses, test_solutions)\n",
    "test_df.head()"
   ]
  },
  {
   "cell_type": "code",
   "execution_count": 101,
   "id": "20ff0bde",
   "metadata": {},
   "outputs": [
    {
     "name": "stdout",
     "output_type": "stream",
     "text": [
      "12947 guesses for 32 solutions takes 1.4535894393920898\n"
     ]
    },
    {
     "data": {
      "text/html": [
       "<div>\n",
       "<style scoped>\n",
       "    .dataframe tbody tr th:only-of-type {\n",
       "        vertical-align: middle;\n",
       "    }\n",
       "\n",
       "    .dataframe tbody tr th {\n",
       "        vertical-align: top;\n",
       "    }\n",
       "\n",
       "    .dataframe thead th {\n",
       "        text-align: right;\n",
       "    }\n",
       "</style>\n",
       "<table border=\"1\" class=\"dataframe\">\n",
       "  <thead>\n",
       "    <tr style=\"text-align: right;\">\n",
       "      <th></th>\n",
       "      <th>Guess</th>\n",
       "      <th>AverageRemainingSolutions</th>\n",
       "      <th>NumberOfGroups</th>\n",
       "      <th>WordsPerGroup</th>\n",
       "      <th>PotentialSolution</th>\n",
       "    </tr>\n",
       "  </thead>\n",
       "  <tbody>\n",
       "    <tr>\n",
       "      <th>4161</th>\n",
       "      <td>horst</td>\n",
       "      <td>1.8750</td>\n",
       "      <td>21</td>\n",
       "      <td>1.52381</td>\n",
       "      <td>0</td>\n",
       "    </tr>\n",
       "    <tr>\n",
       "      <th>12484</th>\n",
       "      <td>shout</td>\n",
       "      <td>2.0625</td>\n",
       "      <td>21</td>\n",
       "      <td>1.52381</td>\n",
       "      <td>0</td>\n",
       "    </tr>\n",
       "    <tr>\n",
       "      <th>11865</th>\n",
       "      <td>short</td>\n",
       "      <td>2.0000</td>\n",
       "      <td>20</td>\n",
       "      <td>1.60000</td>\n",
       "      <td>1</td>\n",
       "    </tr>\n",
       "    <tr>\n",
       "      <th>912</th>\n",
       "      <td>birsy</td>\n",
       "      <td>2.4375</td>\n",
       "      <td>20</td>\n",
       "      <td>1.60000</td>\n",
       "      <td>0</td>\n",
       "    </tr>\n",
       "    <tr>\n",
       "      <th>4157</th>\n",
       "      <td>horis</td>\n",
       "      <td>2.3125</td>\n",
       "      <td>20</td>\n",
       "      <td>1.60000</td>\n",
       "      <td>0</td>\n",
       "    </tr>\n",
       "  </tbody>\n",
       "</table>\n",
       "</div>"
      ],
      "text/plain": [
       "       Guess  AverageRemainingSolutions  NumberOfGroups  WordsPerGroup  \\\n",
       "4161   horst                     1.8750              21        1.52381   \n",
       "12484  shout                     2.0625              21        1.52381   \n",
       "11865  short                     2.0000              20        1.60000   \n",
       "912    birsy                     2.4375              20        1.60000   \n",
       "4157   horis                     2.3125              20        1.60000   \n",
       "\n",
       "       PotentialSolution  \n",
       "4161                   0  \n",
       "12484                  0  \n",
       "11865                  1  \n",
       "912                    0  \n",
       "4157                   0  "
      ]
     },
     "execution_count": 101,
     "metadata": {},
     "output_type": "execute_result"
    }
   ],
   "source": [
    "all_guess_df = test_word_guesser_list_of_lists(test_guesses, test_solutions)\n",
    "all_guess_df.head()"
   ]
  }
 ],
 "metadata": {
  "kernelspec": {
   "display_name": "Python 3",
   "language": "python",
   "name": "python3"
  },
  "language_info": {
   "codemirror_mode": {
    "name": "ipython",
    "version": 3
   },
   "file_extension": ".py",
   "mimetype": "text/x-python",
   "name": "python",
   "nbconvert_exporter": "python",
   "pygments_lexer": "ipython3",
   "version": "3.8.8"
  },
  "toc": {
   "base_numbering": 1,
   "nav_menu": {},
   "number_sections": true,
   "sideBar": true,
   "skip_h1_title": false,
   "title_cell": "Table of Contents",
   "title_sidebar": "Contents",
   "toc_cell": true,
   "toc_position": {},
   "toc_section_display": true,
   "toc_window_display": true
  }
 },
 "nbformat": 4,
 "nbformat_minor": 5
}
