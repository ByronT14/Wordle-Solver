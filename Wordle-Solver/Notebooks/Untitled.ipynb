{
 "cells": [
  {
   "cell_type": "markdown",
   "id": "d199307b",
   "metadata": {
    "toc": true
   },
   "source": [
    "<h1>Table of Contents<span class=\"tocSkip\"></span></h1>\n",
    "<div class=\"toc\"><ul class=\"toc-item\"></ul></div>"
   ]
  },
  {
   "cell_type": "code",
   "execution_count": 50,
   "id": "3b1bfcd9",
   "metadata": {},
   "outputs": [
    {
     "ename": "TypeError",
     "evalue": "list indices must be integers or slices, not list",
     "output_type": "error",
     "traceback": [
      "\u001b[1;31m---------------------------------------------------------------------------\u001b[0m",
      "\u001b[1;31mTypeError\u001b[0m                                 Traceback (most recent call last)",
      "\u001b[1;32m<ipython-input-50-47159e408967>\u001b[0m in \u001b[0;36m<module>\u001b[1;34m\u001b[0m\n\u001b[0;32m      2\u001b[0m \u001b[0mclue\u001b[0m \u001b[1;33m=\u001b[0m \u001b[1;33m[\u001b[0m\u001b[1;34m\"G\"\u001b[0m\u001b[1;33m,\u001b[0m \u001b[1;34m\"Y\"\u001b[0m\u001b[1;33m,\u001b[0m \u001b[1;34m\"B\"\u001b[0m\u001b[1;33m]\u001b[0m\u001b[1;33m\u001b[0m\u001b[1;33m\u001b[0m\u001b[0m\n\u001b[0;32m      3\u001b[0m \u001b[1;33m\u001b[0m\u001b[0m\n\u001b[1;32m----> 4\u001b[1;33m \u001b[0mprint\u001b[0m\u001b[1;33m(\u001b[0m\u001b[0mclue\u001b[0m\u001b[1;33m[\u001b[0m\u001b[0mlist\u001b[0m\u001b[1;33m]\u001b[0m\u001b[1;33m)\u001b[0m\u001b[1;33m\u001b[0m\u001b[1;33m\u001b[0m\u001b[0m\n\u001b[0m",
      "\u001b[1;31mTypeError\u001b[0m: list indices must be integers or slices, not list"
     ]
    }
   ],
   "source": [
    "list = [0,1]\n",
    "clue = [\"G\", \"Y\", \"B\"]\n",
    "\n",
    "print(clue[list])"
   ]
  },
  {
   "cell_type": "code",
   "execution_count": 51,
   "id": "68ed0848",
   "metadata": {},
   "outputs": [
    {
     "ename": "TypeError",
     "evalue": "string indices must be integers",
     "output_type": "error",
     "traceback": [
      "\u001b[1;31m---------------------------------------------------------------------------\u001b[0m",
      "\u001b[1;31mTypeError\u001b[0m                                 Traceback (most recent call last)",
      "\u001b[1;32m<ipython-input-51-b1b3660719da>\u001b[0m in \u001b[0;36m<module>\u001b[1;34m\u001b[0m\n\u001b[0;32m      1\u001b[0m \u001b[0mtest_word\u001b[0m \u001b[1;33m=\u001b[0m \u001b[1;34m\"memes\"\u001b[0m\u001b[1;33m\u001b[0m\u001b[1;33m\u001b[0m\u001b[0m\n\u001b[0;32m      2\u001b[0m \u001b[0mtest_letter\u001b[0m \u001b[1;33m=\u001b[0m \u001b[1;34m\"e\"\u001b[0m\u001b[1;33m\u001b[0m\u001b[1;33m\u001b[0m\u001b[0m\n\u001b[1;32m----> 3\u001b[1;33m \u001b[0mtest_word\u001b[0m\u001b[1;33m[\u001b[0m\u001b[0mtest_letter\u001b[0m\u001b[1;33m]\u001b[0m\u001b[1;33m\u001b[0m\u001b[1;33m\u001b[0m\u001b[0m\n\u001b[0m",
      "\u001b[1;31mTypeError\u001b[0m: string indices must be integers"
     ]
    }
   ],
   "source": [
    "test_word = \"memes\"\n",
    "test_letter = \"e\"\n",
    "test_word[test_letter]"
   ]
  },
  {
   "cell_type": "code",
   "execution_count": 52,
   "id": "4879bcd4",
   "metadata": {},
   "outputs": [
    {
     "name": "stdout",
     "output_type": "stream",
     "text": [
      "[1, 3]\n"
     ]
    }
   ],
   "source": [
    "test_word = \"memes\"\n",
    "test_letter = \"e\"\n",
    "print([pos for pos, char in enumerate(test_word) if char == test_letter])\n",
    "# print([i for l in test_letter for i in range(len(test_word)) if test_word[i] == l])"
   ]
  },
  {
   "cell_type": "code",
   "execution_count": 56,
   "id": "5812a545",
   "metadata": {},
   "outputs": [
    {
     "name": "stdout",
     "output_type": "stream",
     "text": [
      "(0, 'm')\n",
      "(1, 'e')\n",
      "(2, 'm')\n",
      "(3, 'e')\n",
      "(4, 's')\n"
     ]
    }
   ],
   "source": [
    "for char in enumerate(test_word):\n",
    "    print(char)"
   ]
  },
  {
   "cell_type": "code",
   "execution_count": 72,
   "id": "aa421e55",
   "metadata": {},
   "outputs": [
    {
     "name": "stdout",
     "output_type": "stream",
     "text": [
      "[[1, 3]]\n",
      "[[1, 3]]\n",
      "{'e': [1, 3]}\n"
     ]
    }
   ],
   "source": [
    "test_letter = [\"e\"]\n",
    "\n",
    "print([[i for i in range(len(test_word)) if test_word[i] == num] for num in test_letter])\n",
    "print([[pos for pos, char in enumerate(test_word) if char == l] for l in test_letter])\n",
    "test_values = [[pos for pos, char in enumerate(test_word) if char == l] for l in test_letter]\n",
    "# test_dict = dict.from_keys([test_letter,test_values])\n",
    "# print(test_dict)\n",
    "res = {test_letter[i]: test_values[i] for i in range(len(test_letter))}\n",
    "print(res)"
   ]
  },
  {
   "cell_type": "code",
   "execution_count": 74,
   "id": "6abecba6",
   "metadata": {},
   "outputs": [
    {
     "name": "stdout",
     "output_type": "stream",
     "text": [
      "{'e': 3}\n",
      "{'e': [1, 3]}\n"
     ]
    }
   ],
   "source": [
    "test_word = \"metes\"\n",
    "test_letter = [\"e\"]\n",
    "print({l: i for l in test_letter for i in range(len(test_word)) if test_word[i] == l})\n",
    "print({l: [pos for pos, char in enumerate(test_word) if char == l] for l in test_letter})\n"
   ]
  },
  {
   "cell_type": "code",
   "execution_count": 76,
   "id": "72e225e3",
   "metadata": {},
   "outputs": [
    {
     "data": {
      "text/plain": [
       "{'e': [1, 3]}"
      ]
     },
     "execution_count": 76,
     "metadata": {},
     "output_type": "execute_result"
    }
   ],
   "source": [
    "def get_position_of_multiple_letters_opt(entered_word, multiple_letters_list):\n",
    "    if len(multiple_letters_list) < 1:\n",
    "        multiple_letters_position_dict = dict()\n",
    "        return multiple_letters_position_dict\n",
    "    else:\n",
    "        multiple_letters_position_dict = {l: [pos for pos, char in enumerate(entered_word) if char == l]\n",
    "                                          for l in multiple_letters_list}\n",
    "        return multiple_letters_position_dict\n",
    "    \n",
    "get_position_of_multiple_letters_opt(\"metes\", [\"e\"])"
   ]
  },
  {
   "cell_type": "code",
   "execution_count": null,
   "id": "48f13eee",
   "metadata": {},
   "outputs": [],
   "source": [
    "\n",
    "\n",
    "[i for i in self.solutions if return_corrected_wordle_clue(guess, self.solution) == feedback]"
   ]
  },
  {
   "cell_type": "code",
   "execution_count": null,
   "id": "5d2205db",
   "metadata": {},
   "outputs": [],
   "source": []
  },
  {
   "cell_type": "code",
   "execution_count": null,
   "id": "42fb0f1c",
   "metadata": {},
   "outputs": [],
   "source": []
  },
  {
   "cell_type": "code",
   "execution_count": null,
   "id": "4435ce14",
   "metadata": {},
   "outputs": [],
   "source": []
  }
 ],
 "metadata": {
  "kernelspec": {
   "display_name": "Python 3",
   "language": "python",
   "name": "python3"
  },
  "language_info": {
   "codemirror_mode": {
    "name": "ipython",
    "version": 3
   },
   "file_extension": ".py",
   "mimetype": "text/x-python",
   "name": "python",
   "nbconvert_exporter": "python",
   "pygments_lexer": "ipython3",
   "version": "3.8.8"
  },
  "toc": {
   "base_numbering": 1,
   "nav_menu": {},
   "number_sections": true,
   "sideBar": true,
   "skip_h1_title": false,
   "title_cell": "Table of Contents",
   "title_sidebar": "Contents",
   "toc_cell": true,
   "toc_position": {},
   "toc_section_display": true,
   "toc_window_display": true
  }
 },
 "nbformat": 4,
 "nbformat_minor": 5
}
